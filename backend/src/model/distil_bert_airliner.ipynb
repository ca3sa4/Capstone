{
 "cells": [
  {
   "cell_type": "code",
   "execution_count": 5,
   "metadata": {},
   "outputs": [],
   "source": [
    "import sys\n",
    "path = '/tf/notebooks/Capstone/backend/src'\n",
    "sys.path.append(path)\n",
    "\n",
    "import ktrain\n",
    "from ktrain import text\n",
    "from time_series_analysis.time_series import TimeSeries\n",
    "import pandas as pd\n",
    "import random\n",
    "import spacy\n",
    "from nltk.stem import PorterStemmer\n",
    "from nltk.corpus import stopwords\n",
    "from tensorflow.keras.utils import to_categorical\n",
    "import numpy as np\n",
    "import math"
   ]
  },
  {
   "cell_type": "code",
   "execution_count": 6,
   "metadata": {},
   "outputs": [
    {
     "data": {
      "image/png": "[encoded data removed]",
      "text/plain": [
       "<Figure size 432x288 with 1 Axes>"
      ]
     },
     "metadata": {
      "needs_background": "light"
     },
     "output_type": "display_data"
    },
    {
     "name": "stdout",
     "output_type": "stream",
     "text": [
      "30500\n"
     ]
    }
   ],
   "source": [
    "input_csv_text = '../../data/airliner_completed.csv'\n",
    "csv = pd.read_csv(input_csv_text)\n",
    "texts = csv[['Text', 'Datum']].values\n",
    "\n",
    "for text_id in range(len(texts)):\n",
    "    date = texts[text_id][1]\n",
    "    if len(date) == 10:\n",
    "        date = date[3:]\n",
    "    if len(date) == 9:\n",
    "        date = date[2:]\n",
    "    if date == 'Datum':\n",
    "        date = '00.0000'\n",
    "    texts[text_id][1] = date\n",
    "\n",
    "time_series = TimeSeries()\n",
    "time_series.plot_results(time_series.get_residuums(), spread=0.025)\n",
    "labels = time_series.get_residuums_dates(spread=0.025, four_cat=False)\n",
    "\n",
    "def merge_data(texts, labels, sliding_window=1):\n",
    "    final_texts = []\n",
    "    final_labels = []\n",
    "    for text_id in range(len(texts)):\n",
    "        for label_id in range(len(labels) - sliding_window):\n",
    "            if texts[text_id][1] == labels[label_id + sliding_window][1][3:]:\n",
    "                final_texts.append(texts[text_id][0])\n",
    "                final_labels.append(labels[label_id + sliding_window][0])\n",
    "    return final_texts, final_labels\n",
    "\n",
    "texts, labels = merge_data(texts, labels, sliding_window=4)\n",
    "labels = to_categorical(labels)\n",
    "print(len(texts))"
   ]
  },
  {
   "cell_type": "code",
   "execution_count": 7,
   "metadata": {},
   "outputs": [],
   "source": [
    "four_classes = False\n",
    "epochs = 5\n",
    "learning_rate = 5e-5\n",
    "batch_size = 32\n",
    "max_length = 10\n",
    "max_words = 25000"
   ]
  },
  {
   "cell_type": "code",
   "execution_count": 8,
   "metadata": {},
   "outputs": [],
   "source": [
    "nlp = spacy.load('de_core_news_sm')\n",
    "stemmer = PorterStemmer()\n",
    "stoplist = stopwords.words('german')"
   ]
  },
  {
   "cell_type": "code",
   "execution_count": 9,
   "metadata": {},
   "outputs": [],
   "source": [
    "if four_classes:\n",
    "    class_names = ['least', 'less', 'more', 'most']\n",
    "else:\n",
    "    class_names = ['less', 'equal', 'more']"
   ]
  },
  {
   "cell_type": "code",
   "execution_count": 10,
   "metadata": {},
   "outputs": [],
   "source": [
    "def lemmatize_remove_stop(texts, stoplist):\n",
    "    lemmatized_texts = []\n",
    "    for document in list(nlp.pipe(texts, disable=['tagger', 'parser', 'ner'])):\n",
    "        current_text = []\n",
    "        for token in document:\n",
    "            if token.lemma_ not in stoplist:\n",
    "                current_text.append(token.lemma_)\n",
    "\n",
    "        lemmatized_texts.append(' '.join(current_text))\n",
    "    return lemmatized_texts\n",
    "\n",
    "texts = lemmatize_remove_stop(texts, stoplist)"
   ]
  },
  {
   "cell_type": "code",
   "execution_count": 11,
   "metadata": {},
   "outputs": [],
   "source": [
    "data = []\n",
    "if four_classes:\n",
    "    for t, label in zip(texts, labels):\n",
    "        data.append([t, label[0], label[1], label[2], label[3]])\n",
    "else:\n",
    "    for t, label in zip(texts, labels):\n",
    "        data.append([t, label[0], label[1], label[2]])"
   ]
  },
  {
   "cell_type": "code",
   "execution_count": 12,
   "metadata": {},
   "outputs": [],
   "source": [
    "def split_test_data(data, split=0.1, random_seed=42):\n",
    "    np.random.seed(random_seed)\n",
    "    np.random.shuffle(data)\n",
    "    split_item = math.floor(split * len(data))\n",
    "    print('split at: ', split_item)\n",
    "    x_test, y_test = data[:split_item, 0], data[:split_item, 1:]\n",
    "    x_train, y_train = data[split_item:, 0], data[split_item:, 1:]\n",
    "    return x_train, y_train, x_test, y_test"
   ]
  },
  {
   "cell_type": "code",
   "execution_count": 14,
   "metadata": {
    "scrolled": true
   },
   "outputs": [
    {
     "name": "stdout",
     "output_type": "stream",
     "text": [
      "split at:  4575\n",
      "25925 25925 4575 4575\n"
     ]
    }
   ],
   "source": [
    "x_train, y_train, x_val, y_val = split_test_data(np.array(data), split=0.15, random_seed=4242)\n",
    "print(len(x_train), len(y_train), len(x_val), len(y_val))\n",
    "y_train = [[int(e) for e in l] for l in y_train]\n",
    "y_val = [[int(e) for e in l] for l in y_val]"
   ]
  },
  {
   "cell_type": "code",
   "execution_count": 15,
   "metadata": {},
   "outputs": [
    {
     "name": "stdout",
     "output_type": "stream",
     "text": [
      "{0: 2.565053923023647, 1: 0.44831223628691985, 2: 2.6346544715447155}\n"
     ]
    }
   ],
   "source": [
    "from sklearn.utils import class_weight\n",
    "def generate_balanced_weights(y_train):\n",
    "    y_labels = [y.argmax() for y in y_train]\n",
    "    class_weights = class_weight.compute_class_weight('balanced', np.unique(y_labels), y_labels)\n",
    "    weight_dict = {}\n",
    "    for key in range(len(class_weights)):\n",
    "        weight_dict[key] = class_weights[key]\n",
    "    return weight_dict\n",
    "\n",
    "class_weight_dict = generate_balanced_weights(y_train)\n",
    "print(class_weight_dict)"
   ]
  },
  {
   "cell_type": "code",
   "execution_count": 16,
   "metadata": {},
   "outputs": [
    {
     "name": "stdout",
     "output_type": "stream",
     "text": [
      "preprocessing train...\n",
      "language: de\n",
      "train sequence lengths:\n",
      "\tmean : 202\n",
      "\t95percentile : 526\n",
      "\t99percentile : 894\n"
     ]
    },
    {
     "data": {
      "text/html": [],
      "text/plain": [
       "<IPython.core.display.HTML object>"
      ]
     },
     "metadata": {},
     "output_type": "display_data"
    },
    {
     "ename": "TypeError",
     "evalue": "unsupported operand type(s) for +: 'int' and 'numpy.str_'",
     "output_type": "error",
     "traceback": [
      "\u001b[0;31m\u001b[0m",
      "\u001b[0;31mTypeError\u001b[0mTraceback (most recent call last)",
      "\u001b[0;32m<ipython-input-16-99b253698921>\u001b[0m in \u001b[0;36m<module>\u001b[0;34m\u001b[0m\n\u001b[1;32m      2\u001b[0m \u001b[0mMODEL_bert\u001b[0m \u001b[0;34m=\u001b[0m \u001b[0;34m'bert-base-german-cased'\u001b[0m\u001b[0;34m\u001b[0m\u001b[0;34m\u001b[0m\u001b[0m\n\u001b[1;32m      3\u001b[0m \u001b[0mtransformer\u001b[0m \u001b[0;34m=\u001b[0m \u001b[0mtext\u001b[0m\u001b[0;34m.\u001b[0m\u001b[0mTransformer\u001b[0m\u001b[0;34m(\u001b[0m\u001b[0mMODEL_bert\u001b[0m\u001b[0;34m,\u001b[0m \u001b[0mmaxlen\u001b[0m\u001b[0;34m=\u001b[0m\u001b[0mmax_length\u001b[0m\u001b[0;34m,\u001b[0m \u001b[0mclass_names\u001b[0m\u001b[0;34m=\u001b[0m\u001b[0mclass_names\u001b[0m\u001b[0;34m)\u001b[0m\u001b[0;34m\u001b[0m\u001b[0;34m\u001b[0m\u001b[0m\n\u001b[0;32m----> 4\u001b[0;31m \u001b[0mtrain_data\u001b[0m \u001b[0;34m=\u001b[0m \u001b[0mtransformer\u001b[0m\u001b[0;34m.\u001b[0m\u001b[0mpreprocess_train\u001b[0m\u001b[0;34m(\u001b[0m\u001b[0mx_train\u001b[0m\u001b[0;34m,\u001b[0m \u001b[0my_train\u001b[0m\u001b[0;34m)\u001b[0m\u001b[0;34m\u001b[0m\u001b[0;34m\u001b[0m\u001b[0m\n\u001b[0m\u001b[1;32m      5\u001b[0m \u001b[0mval_data\u001b[0m \u001b[0;34m=\u001b[0m \u001b[0mtransformer\u001b[0m\u001b[0;34m.\u001b[0m\u001b[0mpreprocess_test\u001b[0m\u001b[0;34m(\u001b[0m\u001b[0mx_val\u001b[0m\u001b[0;34m,\u001b[0m \u001b[0my_val\u001b[0m\u001b[0;34m)\u001b[0m\u001b[0;34m\u001b[0m\u001b[0;34m\u001b[0m\u001b[0m\n",
      "\u001b[0;32m/usr/local/lib/python3.6/dist-packages/ktrain/text/preprocessor.py\u001b[0m in \u001b[0;36mpreprocess_train\u001b[0;34m(self, texts, y, mode, verbose)\u001b[0m\n\u001b[1;32m   1146\u001b[0m           \u001b[0mTransformerDataset\u001b[0m \u001b[0;32mif\u001b[0m \u001b[0mself\u001b[0m\u001b[0;34m.\u001b[0m\u001b[0muse_with_learner\u001b[0m \u001b[0;34m=\u001b[0m \u001b[0;32mTrue\u001b[0m \u001b[0;32melse\u001b[0m \u001b[0mtf\u001b[0m\u001b[0;34m.\u001b[0m\u001b[0mDataset\u001b[0m\u001b[0;34m\u001b[0m\u001b[0;34m\u001b[0m\u001b[0m\n\u001b[1;32m   1147\u001b[0m         \"\"\"\n\u001b[0;32m-> 1148\u001b[0;31m         \u001b[0mtseq\u001b[0m \u001b[0;34m=\u001b[0m \u001b[0msuper\u001b[0m\u001b[0;34m(\u001b[0m\u001b[0;34m)\u001b[0m\u001b[0;34m.\u001b[0m\u001b[0mpreprocess_train\u001b[0m\u001b[0;34m(\u001b[0m\u001b[0mtexts\u001b[0m\u001b[0;34m,\u001b[0m \u001b[0my\u001b[0m\u001b[0;34m=\u001b[0m\u001b[0my\u001b[0m\u001b[0;34m,\u001b[0m \u001b[0mmode\u001b[0m\u001b[0;34m=\u001b[0m\u001b[0mmode\u001b[0m\u001b[0;34m,\u001b[0m \u001b[0mverbose\u001b[0m\u001b[0;34m=\u001b[0m\u001b[0mverbose\u001b[0m\u001b[0;34m)\u001b[0m\u001b[0;34m\u001b[0m\u001b[0;34m\u001b[0m\u001b[0m\n\u001b[0m\u001b[1;32m   1149\u001b[0m         \u001b[0;32mif\u001b[0m \u001b[0mself\u001b[0m\u001b[0;34m.\u001b[0m\u001b[0muse_with_learner\u001b[0m\u001b[0;34m:\u001b[0m \u001b[0;32mreturn\u001b[0m \u001b[0mtseq\u001b[0m\u001b[0;34m\u001b[0m\u001b[0;34m\u001b[0m\u001b[0m\n\u001b[1;32m   1150\u001b[0m         \u001b[0mtseq\u001b[0m\u001b[0;34m.\u001b[0m\u001b[0mbatch_size\u001b[0m \u001b[0;34m=\u001b[0m \u001b[0mself\u001b[0m\u001b[0;34m.\u001b[0m\u001b[0mbatch_size\u001b[0m\u001b[0;34m\u001b[0m\u001b[0;34m\u001b[0m\u001b[0m\n",
      "\u001b[0;32m/usr/local/lib/python3.6/dist-packages/ktrain/text/preprocessor.py\u001b[0m in \u001b[0;36mpreprocess_train\u001b[0;34m(self, texts, y, mode, verbose)\u001b[0m\n\u001b[1;32m    922\u001b[0m                                       \u001b[0mpad_token\u001b[0m\u001b[0;34m=\u001b[0m\u001b[0mtok\u001b[0m\u001b[0;34m.\u001b[0m\u001b[0mconvert_tokens_to_ids\u001b[0m\u001b[0;34m(\u001b[0m\u001b[0;34m[\u001b[0m\u001b[0mtok\u001b[0m\u001b[0;34m.\u001b[0m\u001b[0mpad_token\u001b[0m\u001b[0;34m]\u001b[0m\u001b[0;34m[\u001b[0m\u001b[0;36m0\u001b[0m\u001b[0;34m]\u001b[0m\u001b[0;34m)\u001b[0m\u001b[0;34m,\u001b[0m\u001b[0;34m\u001b[0m\u001b[0;34m\u001b[0m\u001b[0m\n\u001b[1;32m    923\u001b[0m                                       pad_token_segment_id=4 if self.name in ['xlnet'] else 0)\n\u001b[0;32m--> 924\u001b[0;31m         \u001b[0mself\u001b[0m\u001b[0;34m.\u001b[0m\u001b[0mset_multilabel\u001b[0m\u001b[0;34m(\u001b[0m\u001b[0mdataset\u001b[0m\u001b[0;34m,\u001b[0m \u001b[0mmode\u001b[0m\u001b[0;34m,\u001b[0m \u001b[0mverbose\u001b[0m\u001b[0;34m=\u001b[0m\u001b[0mverbose\u001b[0m\u001b[0;34m)\u001b[0m\u001b[0;34m\u001b[0m\u001b[0;34m\u001b[0m\u001b[0m\n\u001b[0m\u001b[1;32m    925\u001b[0m         \u001b[0;32mif\u001b[0m \u001b[0mmode\u001b[0m \u001b[0;34m==\u001b[0m \u001b[0;34m'train'\u001b[0m\u001b[0;34m:\u001b[0m  \u001b[0mself\u001b[0m\u001b[0;34m.\u001b[0m\u001b[0mpreprocess_train_called\u001b[0m \u001b[0;34m=\u001b[0m \u001b[0;32mTrue\u001b[0m\u001b[0;34m\u001b[0m\u001b[0;34m\u001b[0m\u001b[0m\n\u001b[1;32m    926\u001b[0m         \u001b[0;32mreturn\u001b[0m \u001b[0mdataset\u001b[0m\u001b[0;34m\u001b[0m\u001b[0;34m\u001b[0m\u001b[0m\n",
      "\u001b[0;32m/usr/local/lib/python3.6/dist-packages/ktrain/text/preprocessor.py\u001b[0m in \u001b[0;36mset_multilabel\u001b[0;34m(self, data, mode, verbose)\u001b[0m\n\u001b[1;32m    426\u001b[0m         \u001b[0;32mif\u001b[0m \u001b[0mmode\u001b[0m \u001b[0;34m==\u001b[0m \u001b[0;34m'train'\u001b[0m \u001b[0;32mand\u001b[0m \u001b[0mself\u001b[0m\u001b[0;34m.\u001b[0m\u001b[0mget_classes\u001b[0m\u001b[0;34m(\u001b[0m\u001b[0;34m)\u001b[0m\u001b[0;34m:\u001b[0m\u001b[0;34m\u001b[0m\u001b[0;34m\u001b[0m\u001b[0m\n\u001b[1;32m    427\u001b[0m             \u001b[0moriginal_multilabel\u001b[0m \u001b[0;34m=\u001b[0m \u001b[0mself\u001b[0m\u001b[0;34m.\u001b[0m\u001b[0mmultilabel\u001b[0m\u001b[0;34m\u001b[0m\u001b[0;34m\u001b[0m\u001b[0m\n\u001b[0;32m--> 428\u001b[0;31m             \u001b[0mdiscovered_multilabel\u001b[0m \u001b[0;34m=\u001b[0m \u001b[0mU\u001b[0m\u001b[0;34m.\u001b[0m\u001b[0mis_multilabel\u001b[0m\u001b[0;34m(\u001b[0m\u001b[0mdata\u001b[0m\u001b[0;34m)\u001b[0m\u001b[0;34m\u001b[0m\u001b[0;34m\u001b[0m\u001b[0m\n\u001b[0m\u001b[1;32m    429\u001b[0m             \u001b[0;32mif\u001b[0m \u001b[0moriginal_multilabel\u001b[0m \u001b[0;32mis\u001b[0m \u001b[0;32mNone\u001b[0m\u001b[0;34m:\u001b[0m\u001b[0;34m\u001b[0m\u001b[0;34m\u001b[0m\u001b[0m\n\u001b[1;32m    430\u001b[0m                 \u001b[0mself\u001b[0m\u001b[0;34m.\u001b[0m\u001b[0mmultilabel\u001b[0m \u001b[0;34m=\u001b[0m \u001b[0mdiscovered_multilabel\u001b[0m\u001b[0;34m\u001b[0m\u001b[0;34m\u001b[0m\u001b[0m\n",
      "\u001b[0;32m/usr/local/lib/python3.6/dist-packages/ktrain/utils.py\u001b[0m in \u001b[0;36mis_multilabel\u001b[0;34m(data)\u001b[0m\n\u001b[1;32m    212\u001b[0m         \u001b[0;32mif\u001b[0m \u001b[0mnp\u001b[0m\u001b[0;34m.\u001b[0m\u001b[0missubdtype\u001b[0m\u001b[0;34m(\u001b[0m\u001b[0mtype\u001b[0m\u001b[0;34m(\u001b[0m\u001b[0my\u001b[0m\u001b[0;34m)\u001b[0m\u001b[0;34m,\u001b[0m \u001b[0mnp\u001b[0m\u001b[0;34m.\u001b[0m\u001b[0minteger\u001b[0m\u001b[0;34m)\u001b[0m \u001b[0;32mor\u001b[0m \u001b[0mnp\u001b[0m\u001b[0;34m.\u001b[0m\u001b[0missubdtype\u001b[0m\u001b[0;34m(\u001b[0m\u001b[0mtype\u001b[0m\u001b[0;34m(\u001b[0m\u001b[0my\u001b[0m\u001b[0;34m)\u001b[0m\u001b[0;34m,\u001b[0m \u001b[0mnp\u001b[0m\u001b[0;34m.\u001b[0m\u001b[0mfloating\u001b[0m\u001b[0;34m)\u001b[0m\u001b[0;34m:\u001b[0m\u001b[0;34m\u001b[0m\u001b[0;34m\u001b[0m\u001b[0m\n\u001b[1;32m    213\u001b[0m             \u001b[0;32mreturn\u001b[0m \u001b[0;32mFalse\u001b[0m\u001b[0;34m\u001b[0m\u001b[0;34m\u001b[0m\u001b[0m\n\u001b[0;32m--> 214\u001b[0;31m         \u001b[0mtotal_for_example\u001b[0m \u001b[0;34m=\u001b[0m \u001b[0msum\u001b[0m\u001b[0;34m(\u001b[0m\u001b[0my\u001b[0m\u001b[0;34m)\u001b[0m\u001b[0;34m\u001b[0m\u001b[0;34m\u001b[0m\u001b[0m\n\u001b[0m\u001b[1;32m    215\u001b[0m         \u001b[0;32mif\u001b[0m \u001b[0mtotal_for_example\u001b[0m \u001b[0;34m>\u001b[0m \u001b[0;36m1\u001b[0m\u001b[0;34m:\u001b[0m\u001b[0;34m\u001b[0m\u001b[0;34m\u001b[0m\u001b[0m\n\u001b[1;32m    216\u001b[0m             \u001b[0mmultilabel\u001b[0m\u001b[0;34m=\u001b[0m\u001b[0;32mTrue\u001b[0m\u001b[0;34m\u001b[0m\u001b[0;34m\u001b[0m\u001b[0m\n",
      "\u001b[0;31mTypeError\u001b[0m: unsupported operand type(s) for +: 'int' and 'numpy.str_'"
     ]
    }
   ],
   "source": [
    "MODEL ='distilbert-base-multilingual-cased'\n",
    "MODEL_bert = 'bert-base-german-cased'\n",
    "transformer = text.Transformer(MODEL_bert, maxlen=max_length, class_names=class_names)\n",
    "train_data = transformer.preprocess_train(x_train, y_train)\n",
    "val_data = transformer.preprocess_test(x_val, y_val)"
   ]
  },
  {
   "cell_type": "code",
   "execution_count": 8,
   "metadata": {},
   "outputs": [],
   "source": [
    "model = transformer.get_classifier()"
   ]
  },
  {
   "cell_type": "code",
   "execution_count": 9,
   "metadata": {},
   "outputs": [],
   "source": [
    "learner = ktrain.get_learner(model, train_data=train_data, val_data=val_data, batch_size=batch_size)"
   ]
  },
  {
   "cell_type": "code",
   "execution_count": 10,
   "metadata": {},
   "outputs": [
    {
     "name": "stdout",
     "output_type": "stream",
     "text": [
      "\n",
      "\n",
      "begin training using onecycle policy with max lr of 5e-05...\n",
      "Train for 811 steps, validate for 143 steps\n",
      "Epoch 1/5\n",
      "811/811 [==============================] - 77s 95ms/step - loss: 1.3927 - accuracy: 0.2564 - val_loss: 1.3820 - val_accuracy: 0.2828\n",
      "Epoch 2/5\n",
      "811/811 [==============================] - 63s 78ms/step - loss: 1.3826 - accuracy: 0.2825 - val_loss: 1.3931 - val_accuracy: 0.2979\n",
      "Epoch 3/5\n",
      "811/811 [==============================] - 64s 79ms/step - loss: 1.3552 - accuracy: 0.3308 - val_loss: 1.4055 - val_accuracy: 0.3259\n",
      "Epoch 4/5\n",
      "811/811 [==============================] - 65s 80ms/step - loss: 1.1821 - accuracy: 0.4587 - val_loss: 1.5366 - val_accuracy: 0.3036\n",
      "Epoch 5/5\n",
      "811/811 [==============================] - 65s 80ms/step - loss: 0.7003 - accuracy: 0.7064 - val_loss: 2.0526 - val_accuracy: 0.3106\n"
     ]
    },
    {
     "data": {
      "text/plain": [
       "<tensorflow.python.keras.callbacks.History at 0x7f92406fa2b0>"
      ]
     },
     "execution_count": 10,
     "metadata": {},
     "output_type": "execute_result"
    }
   ],
   "source": [
    "learner.fit_onecycle(5e-5, epochs=epochs, class_weight=class_weight_dict)"
   ]
  },
  {
   "cell_type": "code",
   "execution_count": 11,
   "metadata": {},
   "outputs": [],
   "source": [
    "predictor = ktrain.get_predictor(learner.model, preproc=transformer)"
   ]
  },
  {
   "cell_type": "code",
   "execution_count": 12,
   "metadata": {},
   "outputs": [
    {
     "name": "stdout",
     "output_type": "stream",
     "text": [
      "              precision    recall  f1-score   support\n",
      "\n",
      "           0       0.39      0.30      0.34      1524\n",
      "           1       0.24      0.30      0.27       971\n",
      "           2       0.18      0.24      0.21       603\n",
      "           3       0.37      0.36      0.37      1477\n",
      "\n",
      "    accuracy                           0.31      4575\n",
      "   macro avg       0.30      0.30      0.29      4575\n",
      "weighted avg       0.32      0.31      0.31      4575\n",
      "\n"
     ]
    }
   ],
   "source": [
    "confusion = learner.evaluate()"
   ]
  },
  {
   "cell_type": "code",
   "execution_count": 13,
   "metadata": {
    "scrolled": true
   },
   "outputs": [
    {
     "name": "stderr",
     "output_type": "stream",
     "text": [
      "findfont: Font family ['Arial'] not found. Falling back to DejaVu Sans.\n",
      "findfont: Font family ['Arial'] not found. Falling back to DejaVu Sans.\n",
      "findfont: Font family ['Arial'] not found. Falling back to DejaVu Sans.\n"
     ]
    },
    {
     "data": {
      "image/png": "[encoded data removed]",
      "text/plain": [
       "<Figure size 432x288 with 1 Axes>"
      ]
     },
     "metadata": {},
     "output_type": "display_data"
    }
   ],
   "source": [
    "# print confusion matrix\n",
    "import matplotlib.pyplot as plt\n",
    "import seaborn as sn\n",
    "labels = class_names\n",
    "cm_df = pd.DataFrame(confusion, labels, labels)\n",
    "sn.set(font_scale=1.1, font='Arial')\n",
    "ax = sn.heatmap(cm_df, cmap=\"Blues\", annot=True, annot_kws={\"size\": 11}, cbar=False, fmt='g')\n",
    "ax.set_xlabel(\"Actual\")\n",
    "ax.set_ylabel(\"Predicted\")\n",
    "ax.set_title(\"Confusion Matrix\")\n",
    "plt.show()"
   ]
  },
  {
   "cell_type": "code",
   "execution_count": 14,
   "metadata": {},
   "outputs": [
    {
     "name": "stdout",
     "output_type": "stream",
     "text": [
      "              precision    recall  f1-score   support\n",
      "\n",
      "           0       0.39      0.30      0.34      1524\n",
      "           1       0.24      0.30      0.27       971\n",
      "           2       0.18      0.24      0.21       603\n",
      "           3       0.37      0.36      0.37      1477\n",
      "\n",
      "    accuracy                           0.31      4575\n",
      "   macro avg       0.30      0.30      0.29      4575\n",
      "weighted avg       0.32      0.31      0.31      4575\n",
      "\n"
     ]
    }
   ],
   "source": [
    "confusion = learner.evaluate()"
   ]
  },
  {
   "cell_type": "code",
   "execution_count": null,
   "metadata": {},
   "outputs": [],
   "source": []
  }
 ],
 "metadata": {
  "kernelspec": {
   "display_name": "Python 3",
   "language": "python",
   "name": "python3"
  },
  "language_info": {
   "codemirror_mode": {
    "name": "ipython",
    "version": 3
   },
   "file_extension": ".py",
   "mimetype": "text/x-python",
   "name": "python",
   "nbconvert_exporter": "python",
   "pygments_lexer": "ipython3",
   "version": "3.6.9"
  }
 },
 "nbformat": 4,
 "nbformat_minor": 4
}
