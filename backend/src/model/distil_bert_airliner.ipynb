{
 "cells": [
  {
   "cell_type": "code",
   "execution_count": 1,
   "metadata": {},
   "outputs": [],
   "source": [
    "import ktrain\n",
    "from ktrain import text\n",
    "import pandas as pd\n",
    "import random\n",
    "import numpy as np\n",
    "import math"
   ]
  },
  {
   "cell_type": "code",
   "execution_count": 2,
   "metadata": {},
   "outputs": [
    {
     "name": "stdout",
     "output_type": "stream",
     "text": [
      "30500\n"
     ]
    }
   ],
   "source": [
    "csv_file = '../../data/merged_ktrain_four_six_months.csv'\n",
    "data = pd.read_csv(csv_file).values\n",
    "print(len(data))"
   ]
  },
  {
   "cell_type": "code",
   "execution_count": 3,
   "metadata": {},
   "outputs": [],
   "source": [
    "epochs = 5\n",
    "learning_rate = 5e-5\n",
    "batch_size = 32\n",
    "max_length = 10\n",
    "max_words = 25000\n",
    "#class_names = ['less','equal','more']\n",
    "class_names = ['least','less','more','most']"
   ]
  },
  {
   "cell_type": "code",
   "execution_count": 4,
   "metadata": {},
   "outputs": [],
   "source": [
    "def split_test_data(data, split=0.1, random_seed=42):\n",
    "    np.random.seed(random_seed)\n",
    "    np.random.shuffle(data)\n",
    "    split_item = math.floor(split * len(data))\n",
    "    print('split at: ', split_item)\n",
    "    x_test, y_test = data[:split_item, 0], data[:split_item, 1:]\n",
    "    x_train, y_train = data[split_item:, 0], data[split_item:, 1:]\n",
    "    return x_train, y_train, x_test, y_test"
   ]
  },
  {
   "cell_type": "code",
   "execution_count": 5,
   "metadata": {
    "scrolled": true
   },
   "outputs": [
    {
     "name": "stdout",
     "output_type": "stream",
     "text": [
      "split at:  4575\n",
      "25925 25925 4575 4575\n"
     ]
    }
   ],
   "source": [
    "x_train, y_train, x_val, y_val = split_test_data(data, split=0.15, random_seed=4242)\n",
    "print(len(x_train), len(y_train), len(x_val), len(y_val))"
   ]
  },
  {
   "cell_type": "code",
   "execution_count": 6,
   "metadata": {},
   "outputs": [
    {
     "name": "stdout",
     "output_type": "stream",
     "text": [
      "{0: 0.7830433732028512, 1: 1.1386595221363316, 2: 1.9101827291482465, 3: 0.7568901086067967}\n"
     ]
    }
   ],
   "source": [
    "from sklearn.utils import class_weight\n",
    "def generate_balanced_weights(y_train):\n",
    "    y_labels = [y.argmax() for y in y_train]\n",
    "    class_weights = class_weight.compute_class_weight('balanced', np.unique(y_labels), y_labels)\n",
    "    weight_dict = {}\n",
    "    for key in range(len(class_weights)):\n",
    "        weight_dict[key] = class_weights[key]\n",
    "    return weight_dict\n",
    "\n",
    "class_weight_dict = generate_balanced_weights(y_train)\n",
    "print(class_weight_dict)"
   ]
  },
  {
   "cell_type": "code",
   "execution_count": 7,
   "metadata": {},
   "outputs": [
    {
     "name": "stdout",
     "output_type": "stream",
     "text": [
      "preprocessing train...\n",
      "language: de\n",
      "train sequence lengths:\n",
      "\tmean : 6\n",
      "\t95percentile : 9\n",
      "\t99percentile : 11\n"
     ]
    },
    {
     "data": {
      "text/html": [],
      "text/plain": [
       "<IPython.core.display.HTML object>"
      ]
     },
     "metadata": {},
     "output_type": "display_data"
    },
    {
     "name": "stdout",
     "output_type": "stream",
     "text": [
      "Is Multi-Label? False\n",
      "preprocessing test...\n",
      "language: de\n",
      "test sequence lengths:\n",
      "\tmean : 6\n",
      "\t95percentile : 9\n",
      "\t99percentile : 11\n"
     ]
    },
    {
     "data": {
      "text/html": [],
      "text/plain": [
       "<IPython.core.display.HTML object>"
      ]
     },
     "metadata": {},
     "output_type": "display_data"
    }
   ],
   "source": [
    "MODEL ='distilbert-base-multilingual-cased'\n",
    "MODEL_bert = 'bert-base-german-cased'\n",
    "transformer = text.Transformer(MODEL_bert, maxlen=max_length, class_names=class_names)\n",
    "train_data = transformer.preprocess_train(x_train, y_train)\n",
    "val_data = transformer.preprocess_test(x_val, y_val)"
   ]
  },
  {
   "cell_type": "code",
   "execution_count": 8,
   "metadata": {},
   "outputs": [],
   "source": [
    "model = transformer.get_classifier()"
   ]
  },
  {
   "cell_type": "code",
   "execution_count": 9,
   "metadata": {},
   "outputs": [],
   "source": [
    "learner = ktrain.get_learner(model, train_data=train_data, val_data=val_data, batch_size=batch_size)"
   ]
  },
  {
   "cell_type": "code",
   "execution_count": null,
   "metadata": {},
   "outputs": [
    {
     "name": "stdout",
     "output_type": "stream",
     "text": [
      "\n",
      "\n",
      "begin training using onecycle policy with max lr of 5e-05...\n",
      "Train for 811 steps, validate for 143 steps\n",
      "Epoch 1/5\n",
      "811/811 [==============================] - 77s 95ms/step - loss: 1.3927 - accuracy: 0.2564 - val_loss: 1.3820 - val_accuracy: 0.2828\n",
      "Epoch 2/5\n",
      "749/811 [==========================>...] - ETA: 4s - loss: 1.3825 - accuracy: 0.2840"
     ]
    }
   ],
   "source": [
    "learner.fit_onecycle(5e-5, epochs=epochs, class_weight=class_weight_dict)"
   ]
  },
  {
   "cell_type": "code",
   "execution_count": null,
   "metadata": {},
   "outputs": [],
   "source": [
    "predictor = ktrain.get_predictor(learner.model, preproc=transformer)"
   ]
  },
  {
   "cell_type": "code",
   "execution_count": null,
   "metadata": {},
   "outputs": [],
   "source": [
    "confusion = learner.evaluate()"
   ]
  },
  {
   "cell_type": "code",
   "execution_count": null,
   "metadata": {
    "scrolled": true
   },
   "outputs": [],
   "source": [
    "# print confusion matrix\n",
    "import matplotlib.pyplot as plt\n",
    "import seaborn as sn\n",
    "labels = class_names\n",
    "cm_df = pd.DataFrame(confusion, labels, labels)\n",
    "sn.set(font_scale=1.1, font='Arial')\n",
    "ax = sn.heatmap(cm_df, cmap=\"Blues\", annot=True, annot_kws={\"size\": 11}, cbar=False, fmt='g')\n",
    "ax.set_xlabel(\"Actual\")\n",
    "ax.set_ylabel(\"Predicted\")\n",
    "ax.set_title(\"Confusion Matrix\")\n",
    "plt.show()"
   ]
  },
  {
   "cell_type": "code",
   "execution_count": null,
   "metadata": {},
   "outputs": [],
   "source": [
    "confusion = learner.evaluate()"
   ]
  },
  {
   "cell_type": "code",
   "execution_count": null,
   "metadata": {},
   "outputs": [],
   "source": []
  }
 ],
 "metadata": {
  "kernelspec": {
   "display_name": "Python 3",
   "language": "python",
   "name": "python3"
  },
  "language_info": {
   "codemirror_mode": {
    "name": "ipython",
    "version": 3
   },
   "file_extension": ".py",
   "mimetype": "text/x-python",
   "name": "python",
   "nbconvert_exporter": "python",
   "pygments_lexer": "ipython3",
   "version": "3.6.9"
  }
 },
 "nbformat": 4,
 "nbformat_minor": 4
}
