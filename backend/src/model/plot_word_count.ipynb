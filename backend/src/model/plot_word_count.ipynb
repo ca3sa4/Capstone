{
 "cells": [
  {
   "cell_type": "code",
   "execution_count": 3,
   "metadata": {},
   "outputs": [
    {
     "name": "stdout",
     "output_type": "stream",
     "text": [
      "30500\n",
      "max words: 23291\n"
     ]
    },
    {
     "data": {
      "image/png": "[encoded data removed]",
      "text/plain": [
       "<Figure size 432x288 with 1 Axes>"
      ]
     },
     "metadata": {
      "needs_background": "light"
     },
     "output_type": "display_data"
    }
   ],
   "source": [
    "import ktrain\n",
    "from ktrain import text\n",
    "import pandas as pd\n",
    "import random\n",
    "import numpy as np\n",
    "import math\n",
    "import spacy\n",
    "import matplotlib.pyplot as plt\n",
    "import seaborn as sn\n",
    "from nltk.stem import PorterStemmer\n",
    "import collections\n",
    "\n",
    "# csv_file = '../../data/merged_ktrain_google_en.csv'\n",
    "csv_file = '../../data/merged_ktrain_four.csv'\n",
    "\n",
    "data = pd.read_csv(csv_file).values\n",
    "texts = [element[0] for element in data]\n",
    "labels = [element[1:] for element in data]\n",
    "print(len(data))\n",
    "\n",
    "# preprocess text\n",
    "nlp = spacy.load('de_core_news_sm')\n",
    "stemmer = PorterStemmer()\n",
    "stoplist = ['der', 'und', ':', '»', '«']\n",
    "\n",
    "def test_token(text):\n",
    "    doc = nlp(text)\n",
    "    output = []\n",
    "    for t in doc:\n",
    "        print(f'token: {t.text} - lemma: {t.lemma_} - POS Tag: {t.pos_} - stem: {stemmer.stem(t.text)}')\n",
    "        output.append(t.lemma_)\n",
    "    return output\n",
    "\n",
    "\n",
    "def lemmatize(texts):\n",
    "    lemmatized_texts = []\n",
    "    for document in list(nlp.pipe(texts, disable=['tagger', 'parser', 'ner'])):\n",
    "        current_text = []\n",
    "        for token in document:\n",
    "            current_text.append(token.lemma_)\n",
    "        lemmatized_texts.append(' '.join(current_text))\n",
    "    return lemmatized_texts\n",
    "\n",
    "\n",
    "texts = lemmatize(texts)\n",
    "\n",
    "\n",
    "def count_plot_words(texts):\n",
    "    wordlist = []\n",
    "    for text in texts:\n",
    "        wordlist.extend(text.split(' '))\n",
    "    counter = collections.Counter(wordlist)\n",
    "    ddict = {k: v for k, v in sorted(counter.items(), key=lambda item: item[1], reverse=True)}\n",
    "    values = list(ddict.values())\n",
    "    print('max words:', len(ddict))\n",
    "\n",
    "    plt.bar(list(ddict.keys())[:30], values[:30])\n",
    "    plt.xticks(rotation=90)\n",
    "    plt.show()\n",
    "\n",
    "count_plot_words(texts)"
   ]
  },
  {
   "cell_type": "code",
   "execution_count": 2,
   "metadata": {},
   "outputs": [],
   "source": []
  },
  {
   "cell_type": "code",
   "execution_count": 3,
   "metadata": {},
   "outputs": [
    {
     "data": {
      "text/plain": [
       "<zip at 0x7efc00082088>"
      ]
     },
     "execution_count": 3,
     "metadata": {},
     "output_type": "execute_result"
    }
   ],
   "source": []
  },
  {
   "cell_type": "code",
   "execution_count": 4,
   "metadata": {},
   "outputs": [
    {
     "name": "stdout",
     "output_type": "stream",
     "text": [
      "<zip object at 0x7efc00082088>\n"
     ]
    }
   ],
   "source": []
  },
  {
   "cell_type": "code",
   "execution_count": 5,
   "metadata": {},
   "outputs": [
    {
     "data": {
      "text/plain": [
       "[([1], [4]), ([2], [5]), ([3], [6])]"
      ]
     },
     "execution_count": 5,
     "metadata": {},
     "output_type": "execute_result"
    }
   ],
   "source": []
  },
  {
   "cell_type": "code",
   "execution_count": null,
   "metadata": {},
   "outputs": [],
   "source": []
  }
 ],
 "metadata": {
  "kernelspec": {
   "display_name": "Python 3",
   "language": "python",
   "name": "python3"
  },
  "language_info": {
   "codemirror_mode": {
    "name": "ipython",
    "version": 3
   },
   "file_extension": ".py",
   "mimetype": "text/x-python",
   "name": "python",
   "nbconvert_exporter": "python",
   "pygments_lexer": "ipython3",
   "version": "3.6.9"
  }
 },
 "nbformat": 4,
 "nbformat_minor": 4
}
